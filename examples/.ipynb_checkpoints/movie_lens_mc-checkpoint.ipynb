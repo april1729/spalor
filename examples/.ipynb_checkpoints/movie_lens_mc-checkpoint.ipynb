{
 "cells": [
  {
   "cell_type": "markdown",
   "metadata": {},
   "source": [
    "<h1> How do we use Matrix Completion for movie recomendations? </h1>"
   ]
  },
  {
   "cell_type": "markdown",
   "metadata": {},
   "source": [
    "Now that we have a good understanding of what matrix completion is and how to do it, we can get to the fun part.  Theres a ton of applications of matrix completion, from reconstructing the molecular structure of protiens from limited measurements to image classification, but by far the most commonly cited example is the Netflix problem.  The state of the art dataset for movie recommendations comes from [MovieLens](https://grouplens.org/datasets/movielens/), and though they have datasets with 25 million ratings, we're going to stick with 1 million for simplicity.  \n",
    "\n",
    "Before we get into the data, we should justify to ourslelves that this is going to be a low-rank matrix.  Let's take the movies Breakfast Club and Pretty in Pink as an example. I would bet that the way individuals rate these two movies is pretty much the same way, and so they columns associated with each of them should be very close to eachother. Now lets throw Titanic into the mix.  While I wouldn't expect it to be the same, it might be similiar.  It might also be similiar to other period pieces featuring forbidden love, like Pride and Prejudice, or movies with Leonardo DeCaprio, like Wolf of Wallstreet.  So, I would expect that the ratings for Titanic might look like an average of all of these movies.  The point is that the ratings for a specific movie should be pretty close to a linear combination of ratings of just a few other movies. \n",
    "\n",
    "\n",
    "First, lets load the data set and see what it looks like."
   ]
  },
  {
   "cell_type": "code",
   "execution_count": 5,
   "metadata": {
    "scrolled": true
   },
   "outputs": [
    {
     "name": "stdout",
     "output_type": "stream",
     "text": [
      "[[1.00000000e+00 1.19300000e+03 5.00000000e+00 9.78300760e+08]\n",
      " [1.00000000e+00 6.61000000e+02 3.00000000e+00 9.78302109e+08]\n",
      " [1.00000000e+00 9.14000000e+02 3.00000000e+00 9.78301968e+08]]\n"
     ]
    }
   ],
   "source": [
    "data = np.loadtxt( 'movieLens/ratings.dat',delimiter='::' )\n",
    "print(data[:][0:3])"
   ]
  },
  {
   "cell_type": "markdown",
   "metadata": {},
   "source": [
    "The first column is the user ID, the second is the movie ID, the third is the rating (1,2,3,4, or 5), and the last is a time stamp (which we don't need to worry about).  We want the rows of the matrix to be users, and the columns should be movies. \n"
   ]
  },
  {
   "cell_type": "code",
   "execution_count": 6,
   "metadata": {
    "scrolled": true
   },
   "outputs": [
    {
     "name": "stdout",
     "output_type": "stream",
     "text": [
      "(6040, 3952)\n"
     ]
    }
   ],
   "source": [
    "X=data[:, [0,1]].astype(int)-1\n",
    "y=data[:,2]\n",
    "\n",
    "n_users=max(X[:,0])+1\n",
    "n_movies=max(X[:,1])+1\n",
    "\n",
    "from sklearn.model_selection import train_test_split\n",
    "X_train, X_test, y_train, y_test = train_test_split(X, y, test_size=0.2, random_state=42)"
   ]
  },
  {
   "cell_type": "markdown",
   "metadata": {},
   "source": [
    "Now to train the model and make some predictions"
   ]
  },
  {
   "cell_type": "code",
   "execution_count": 8,
   "metadata": {
    "pycharm": {
     "name": "#%%\n"
    },
    "scrolled": true
   },
   "outputs": [
    {
     "name": "stdout",
     "output_type": "stream",
     "text": [
      "MAE: 0.6910439339771605\n",
      "Percent of predictions off my less than 1:  0.7603603243318903\n"
     ]
    }
   ],
   "source": [
    "from spalor.MC import MC\n",
    "from statistics import mean\n",
    "\n",
    "mc_model=MC(n_users,n_movies,r=5)\n",
    "mc_model.fit(X_train, y_train)\n",
    "y_predict=mc_model.predict(X_test)\n",
    "\n",
    "print(\"MAE:\",mean(abs(y_test-y_predict)))\n",
    "print(\"Percent of predictions off my less than 1: \",np.sum(abs(y_test-y_predict)<1)/len(y_test))\n"
   ]
  }
 ],
 "metadata": {
  "kernelspec": {
   "display_name": "Python 3",
   "language": "python",
   "name": "python3"
  },
  "language_info": {
   "codemirror_mode": {
    "name": "ipython",
    "version": 3
   },
   "file_extension": ".py",
   "mimetype": "text/x-python",
   "name": "python",
   "nbconvert_exporter": "python",
   "pygments_lexer": "ipython3",
   "version": "3.8.5"
  },
  "pycharm": {
   "stem_cell": {
    "cell_type": "raw",
    "metadata": {
     "collapsed": false
    },
    "source": []
   }
  }
 },
 "nbformat": 4,
 "nbformat_minor": 2
}
