{
 "cells": [
  {
   "cell_type": "code",
   "execution_count": 2,
   "metadata": {
    "collapsed": true
   },
   "outputs": [],
   "source": [
    "import numpy as np\n",
    "from scipy.sparse.linalg import svds\n",
    "U=np.random.randn(10,5)\n",
    "V=np.random.randn(7,5)\n",
    "X=U.dot(V.T)\n",
    "(u,s,v)=svds(X, k=5)"
   ]
  },
  {
   "cell_type": "code",
   "execution_count": 9,
   "outputs": [],
   "source": [
    "def svdsUV(U,V):\n",
    "    (qu,ru)=np.linalg.qr(U)\n",
    "    (qv,rv)=np.linalg.qr(V)\n",
    "    [ur,sr,vr]=np.linalg.svd(ru.dot(rv.T))\n",
    "    return (qu.dot(ur), sr, qv.dot(vr.T).T)"
   ],
   "metadata": {
    "collapsed": false,
    "pycharm": {
     "name": "#%%\n"
    }
   }
  },
  {
   "cell_type": "code",
   "execution_count": 24,
   "outputs": [
    {
     "data": {
      "text/plain": "array([[-0.23868799, -0.82753961, -2.62567856,  1.74765073,  3.37407628,\n        -0.48732915, -1.59696878],\n       [ 0.7631659 ,  0.42654975, -1.33840424,  2.44279001,  2.75913014,\n         0.57099711, -0.76620679],\n       [ 0.62688355,  3.07089545,  1.04605404,  0.26727578,  4.28092262,\n        -2.83157715,  2.81104266],\n       [ 0.17622747,  1.03292087, -0.14826616,  2.19460708,  1.84927247,\n         0.44627936, -0.89951697],\n       [ 0.16860622, -0.27396657,  0.60812835,  1.91431545, -0.88315135,\n         1.75412725, -1.3121396 ],\n       [-0.96115466, -0.42231978, -1.01648389, -2.48106451, -2.18367128,\n         0.0975694 , -0.79599966],\n       [-0.60288369, -3.55711375, -1.18145318, -0.35627662, -0.82511391,\n        -0.14528863, -0.92579044],\n       [-0.73873766, -5.78110229,  1.27624081,  0.30643224, -5.9846945 ,\n         2.6364832 , -2.07820139],\n       [ 0.43747563,  2.00567263, -0.57631576,  1.33374208,  3.67191722,\n        -1.07651122,  0.49925046],\n       [-1.93358173,  3.48382783, -2.52285295, -3.67792137,  1.08150563,\n        -1.9860161 , -0.9677545 ]])"
     },
     "execution_count": 24,
     "metadata": {},
     "output_type": "execute_result"
    }
   ],
   "source": [],
   "metadata": {
    "collapsed": false,
    "pycharm": {
     "name": "#%%\n"
    }
   }
  },
  {
   "cell_type": "code",
   "execution_count": 30,
   "outputs": [
    {
     "data": {
      "text/plain": "array([13.25978989,  7.66626069,  5.82830578,  3.580559  ,  1.20648754])"
     },
     "execution_count": 30,
     "metadata": {},
     "output_type": "execute_result"
    }
   ],
   "source": [
    "sr"
   ],
   "metadata": {
    "collapsed": false,
    "pycharm": {
     "name": "#%%\n"
    }
   }
  },
  {
   "cell_type": "code",
   "execution_count": 29,
   "outputs": [
    {
     "data": {
      "text/plain": "array([13.25978989,  7.66626069,  5.82830578,  3.580559  ,  1.20648754])"
     },
     "execution_count": 29,
     "metadata": {},
     "output_type": "execute_result"
    }
   ],
   "source": [
    "sr"
   ],
   "metadata": {
    "collapsed": false,
    "pycharm": {
     "name": "#%%\n"
    }
   }
  },
  {
   "cell_type": "code",
   "execution_count": 31,
   "outputs": [
    {
     "data": {
      "text/plain": "array([ 1.20648754,  3.580559  ,  5.82830578,  7.66626069, 13.25978989])"
     },
     "execution_count": 31,
     "metadata": {},
     "output_type": "execute_result"
    }
   ],
   "source": [
    "s"
   ],
   "metadata": {
    "collapsed": false,
    "pycharm": {
     "name": "#%%\n"
    }
   }
  },
  {
   "cell_type": "code",
   "execution_count": null,
   "outputs": [],
   "source": [],
   "metadata": {
    "collapsed": false,
    "pycharm": {
     "name": "#%%\n"
    }
   }
  }
 ],
 "metadata": {
  "kernelspec": {
   "display_name": "Python 3",
   "language": "python",
   "name": "python3"
  },
  "language_info": {
   "codemirror_mode": {
    "name": "ipython",
    "version": 2
   },
   "file_extension": ".py",
   "mimetype": "text/x-python",
   "name": "python",
   "nbconvert_exporter": "python",
   "pygments_lexer": "ipython2",
   "version": "2.7.6"
  }
 },
 "nbformat": 4,
 "nbformat_minor": 0
}