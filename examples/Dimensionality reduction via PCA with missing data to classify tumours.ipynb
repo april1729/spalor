{
 "cells": [
  {
   "cell_type": "markdown",
   "id": "d6255a2a",
   "metadata": {},
   "source": [
    "# Dimensionality reduction via PCA with missing data to classify tumours"
   ]
  },
  {
   "cell_type": "code",
   "execution_count": 4,
   "id": "2c3bf706",
   "metadata": {},
   "outputs": [],
   "source": [
    "import os\n",
    "os.chdir(\"../\")"
   ]
  },
  {
   "cell_type": "code",
   "execution_count": 5,
   "id": "96e59d75",
   "metadata": {},
   "outputs": [
    {
     "name": "stdout",
     "output_type": "stream",
     "text": [
      "/Users/aprilsagan/Documents/spalor/spalor/datasets/STTm.pkl\n"
     ]
    }
   ],
   "source": [
    "import numpy as np\n",
    "from spalor.datasets import load_STT\n",
    "from scipy import sparse\n",
    "\n",
    "STTm=load_STT()\n",
    "data_matrix=STTm.T.to_numpy()"
   ]
  },
  {
   "cell_type": "code",
   "execution_count": 6,
   "id": "ed56e7c3",
   "metadata": {},
   "outputs": [
    {
     "name": "stdout",
     "output_type": "stream",
     "text": [
      "[[   0    0    0 ...   30   30   30]\n",
      " [   0    1    2 ... 5517 5518 5519]]\n"
     ]
    }
   ],
   "source": [
    "sA = sparse.coo_matrix(data_matrix)\n",
    "X=np.array([sA.row,sA.col])\n",
    "y=np.array(sA.data)\n",
    "\n",
    "print(X)"
   ]
  },
  {
   "cell_type": "code",
   "execution_count": 7,
   "id": "e935f48e",
   "metadata": {},
   "outputs": [
    {
     "data": {
      "text/plain": "(31, 5520)"
     },
     "execution_count": 7,
     "metadata": {},
     "output_type": "execute_result"
    }
   ],
   "source": [
    "data_matrix.shape"
   ]
  },
  {
   "cell_type": "code",
   "execution_count": 8,
   "id": "1f976ec5",
   "metadata": {},
   "outputs": [
    {
     "name": "stdout",
     "output_type": "stream",
     "text": [
      "Number of samples:  31\n",
      "Number of genes:  5520\n"
     ]
    }
   ],
   "source": [
    "(num_samples,num_genes)=data_matrix.shape\n",
    "print(\"Number of samples: \", num_samples)\n",
    "print(\"Number of genes: \", num_genes)"
   ]
  },
  {
   "cell_type": "code",
   "execution_count": 9,
   "id": "54de6466",
   "metadata": {},
   "outputs": [
    {
     "name": "stdout",
     "output_type": "stream",
     "text": [
      "Proportion of measurements available:  0.39999532456299275\n"
     ]
    }
   ],
   "source": [
    "from sklearn.model_selection import train_test_split\n",
    "X_train, X_test, y_train, y_test = train_test_split(X.transpose(), y, test_size=0.6, random_state=42)\n",
    "print(\"Proportion of measurements available: \",len(y_train)/len(y))"
   ]
  },
  {
   "cell_type": "code",
   "execution_count": 10,
   "id": "a36882b8",
   "metadata": {},
   "outputs": [
    {
     "ename": "SyntaxError",
     "evalue": "invalid syntax (mc.py, line 69)",
     "output_type": "error",
     "traceback": [
      "Traceback \u001B[0;36m(most recent call last)\u001B[0m:\n",
      "  File \u001B[1;32m\"/Users/aprilsagan/opt/anaconda3/lib/python3.8/site-packages/IPython/core/interactiveshell.py\"\u001B[0m, line \u001B[1;32m3437\u001B[0m, in \u001B[1;35mrun_code\u001B[0m\n    exec(code_obj, self.user_global_ns, self.user_ns)\n",
      "  File \u001B[1;32m\"<ipython-input-10-dbc08f7b3e51>\"\u001B[0m, line \u001B[1;32m1\u001B[0m, in \u001B[1;35m<module>\u001B[0m\n    from spalor.models import MC\n",
      "\u001B[0;36m  File \u001B[0;32m\"/Users/aprilsagan/Documents/spalor/spalor/models/__init__.py\"\u001B[0;36m, line \u001B[0;32m1\u001B[0;36m, in \u001B[0;35m<module>\u001B[0;36m\u001B[0m\n\u001B[0;31m    from .mc import MC\u001B[0m\n",
      "\u001B[0;36m  File \u001B[0;32m\"/Users/aprilsagan/Documents/spalor/spalor/models/mc.py\"\u001B[0;36m, line \u001B[0;32m69\u001B[0m\n\u001B[0;31m    if y=None:\u001B[0m\n\u001B[0m        ^\u001B[0m\n\u001B[0;31mSyntaxError\u001B[0m\u001B[0;31m:\u001B[0m invalid syntax\n"
     ]
    }
   ],
   "source": [
    "from spalor.models import MC\n",
    "mc=MC(5)\n",
    "mc.fit(X_train, y=y_train)\n",
    "\n",
    "y_predict=mc.predict(X_test.T)"
   ]
  },
  {
   "cell_type": "code",
   "execution_count": null,
   "id": "b42a3634",
   "metadata": {},
   "outputs": [],
   "source": [
    "mc.user_means"
   ]
  },
  {
   "cell_type": "code",
   "execution_count": null,
   "id": "9bbb600e",
   "metadata": {},
   "outputs": [],
   "source": [
    "from spalor.algorithms.mc_algorithms import *\n",
    "\n",
    "(U,V)=lmafit(31, 5520, 5,X_train.T ,y_train)"
   ]
  },
  {
   "cell_type": "code",
   "execution_count": null,
   "id": "778cc915",
   "metadata": {},
   "outputs": [],
   "source": [
    "x1=np.random.randn(40,3)\n",
    "x2=np.random.randn(20,3)"
   ]
  },
  {
   "cell_type": "code",
   "execution_count": null,
   "id": "581b964e",
   "metadata": {},
   "outputs": [],
   "source": [
    "mc.rank"
   ]
  },
  {
   "cell_type": "code",
   "execution_count": 10,
   "id": "23b590fa",
   "metadata": {},
   "outputs": [
    {
     "data": {
      "image/png": "[encoded data removed]",
      "text/plain": [
       "<Figure size 432x288 with 1 Axes>"
      ]
     },
     "metadata": {
      "needs_background": "light"
     },
     "output_type": "display_data"
    },
    {
     "name": "stdout",
     "output_type": "stream",
     "text": [
      "r squared value:  0.350177203077899\n"
     ]
    }
   ],
   "source": [
    "import matplotlib.pyplot as plt\n",
    "import scipy.stats\n",
    "plt.scatter(y_predict, y_test)\n",
    "plt.show()\n",
    "\n",
    "slope, intercept, r_value, p_value, std_err = scipy.stats.linregress(y_predict,y_test)\n",
    "\n",
    "print(\"r squared value: \",r_value)"
   ]
  },
  {
   "cell_type": "code",
   "execution_count": 11,
   "id": "38f963d9",
   "metadata": {},
   "outputs": [
    {
     "data": {
      "image/png": "[encoded data removed]",
      "text/plain": [
       "<Figure size 432x288 with 1 Axes>"
      ]
     },
     "metadata": {
      "needs_background": "light"
     },
     "output_type": "display_data"
    }
   ],
   "source": [
    "pc1=mc.U[:,0]\n",
    "pc2=mc.U[:,1]\n",
    "\n",
    "plt.scatter(pc1[0:10],pc2[0:10])\n",
    "plt.scatter(pc1[10:22],pc2[10:22])\n",
    "plt.scatter(pc1[22:31],pc2[22:31])\n",
    "\n",
    "plt.show()"
   ]
  }
 ],
 "metadata": {
  "kernelspec": {
   "display_name": "Python 3",
   "language": "python",
   "name": "python3"
  },
  "language_info": {
   "codemirror_mode": {
    "name": "ipython",
    "version": 3
   },
   "file_extension": ".py",
   "mimetype": "text/x-python",
   "name": "python",
   "nbconvert_exporter": "python",
   "pygments_lexer": "ipython3",
   "version": "3.8.8"
  }
 },
 "nbformat": 4,
 "nbformat_minor": 5
}