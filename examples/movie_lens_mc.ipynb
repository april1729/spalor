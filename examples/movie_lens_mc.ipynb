{
 "cells": [
  {
   "cell_type": "markdown",
   "metadata": {},
   "source": [
    "# Movie Recomendations with Matrix Completion\n",
    "\n",
    "\n",
    "Consider a matrix where the rows are Netflix users, the columns are movies, and the entries are the ratings each user gives each movie.  This matrix is going to be very sparesly filled in, because most people are going to watch just a small fraction of the movies on netflix, but if we can predict entries of the matrix, then we could recomend movies someone hasn't seen yet.\n",
    "\n",
    "We're going to assume that the data is approximately _low-rank_, which means that each column can be approximated with a linear combination of just a handful of other columns. Let’s take the movies Breakfast Club and Pretty in Pink as an example. I would bet that the way individuals rate these two movies is highly correlated, and the columns associated with each movie should be very similiar. Now lets throw Titanic into the mix. While I wouldn’t expect it to be the same, it might be similiar. It might also be similiar to other period pieces featuring forbidden love, like Pride and Prejudice, or movies with Leonardo DeCaprio, like Wolf of Wallstreet. So, I would expect that the ratings for Titanic might look like an average of the ratings for all of these movies. The point is that the ratings for a specific movie should be pretty close to a linear combination of ratings of just a few other similiar movies.\n",
    "\n",
    "A common dataset for movie recommendations comes from MovieLens, and though they have datasets with 25 million ratings, we’re going to stick with 1 million for simplicity.  The data can be downloaded from grouplens.org, or with the following bash commands:"
   ]
  },
  {
   "cell_type": "code",
   "execution_count": 4,
   "outputs": [
    {
     "name": "stdout",
     "output_type": "stream",
     "text": [
      "  % Total    % Received % Xferd  Average Speed   Time    Time     Time  Current\r\n",
      "                                 Dload  Upload   Total   Spent    Left  Speed\r\n",
      "100 5778k  100 5778k    0     0  3979k      0  0:00:01  0:00:01 --:--:-- 3977k\r\n",
      "Archive:  ml-1m.zip\r\n",
      "   creating: ml-1m/\r\n",
      "  inflating: ml-1m/movies.dat        \r\n",
      "  inflating: ml-1m/ratings.dat       \r\n",
      "  inflating: ml-1m/README            \r\n",
      "  inflating: ml-1m/users.dat         \r\n"
     ]
    }
   ],
   "source": [
    "!curl https://files.grouplens.org/datasets/movielens/ml-1m.zip -O\n",
    "!unzip ml-1m.zip"
   ],
   "metadata": {
    "collapsed": false,
    "pycharm": {
     "name": "#%%\n"
    }
   }
  },
  {
   "cell_type": "markdown",
   "source": [
    "Read the data in with Numpy:"
   ],
   "metadata": {
    "collapsed": false,
    "pycharm": {
     "name": "#%% md\n"
    }
   }
  },
  {
   "cell_type": "code",
   "execution_count": 8,
   "metadata": {
    "scrolled": false
   },
   "outputs": [
    {
     "name": "stdout",
     "output_type": "stream",
     "text": [
      "[[1.00000000e+00 1.19300000e+03 5.00000000e+00 9.78300760e+08]\n",
      " [1.00000000e+00 6.61000000e+02 3.00000000e+00 9.78302109e+08]\n",
      " [1.00000000e+00 9.14000000e+02 3.00000000e+00 9.78301968e+08]]\n"
     ]
    }
   ],
   "source": [
    "import numpy as np\n",
    "data = np.loadtxt('ml-1m/ratings.dat',delimiter='::' )\n",
    "print(data[:][0:3])"
   ]
  },
  {
   "cell_type": "markdown",
   "metadata": {},
   "source": [
    "The first column is the user ID, the second is the movie ID, the third is the rating (1,2,3,4, or 5), and the last is a time stamp (which we don't need to worry about).  We want the rows of the matrix to be users, and the columns should be movies. \n",
    "\n",
    "Next we divide the data into training and testing sets.  Note that we're also going to subtract 3 from each of the ratings that way the middle value is 0."
   ]
  },
  {
   "cell_type": "code",
   "execution_count": 33,
   "metadata": {
    "scrolled": true
   },
   "outputs": [],
   "source": [
    "X=data[:, [0,1]].astype(int)-1\n",
    "y=data[:,2] - 3\n",
    "\n",
    "from sklearn.model_selection import train_test_split\n",
    "X_train, X_test, y_train, y_test = train_test_split(X, y, test_size=0.1, random_state=42)"
   ]
  },
  {
   "cell_type": "markdown",
   "metadata": {},
   "source": []
  },
  {
   "cell_type": "code",
   "execution_count": 34,
   "metadata": {
    "pycharm": {
     "name": "#%%\n"
    },
    "scrolled": true
   },
   "outputs": [
    {
     "name": "stdout",
     "output_type": "stream",
     "text": [
      "MAE: 0.7066785169566365\n",
      "Percent of predictions off my less than 1:  0.7507023525059737\n"
     ]
    }
   ],
   "source": [
    "from spalor.models import MC\n",
    "from statistics import mean\n",
    "\n",
    "mc_model=MC(n_components=5)\n",
    "mc_model.fit(X_train, y_train)\n",
    "y_predict=mc_model.predict(X_test.T)\n",
    "\n",
    "print(\"MAE:\",mean(abs(y_test-y_predict)))\n",
    "print(\"Percent of predictions off my less than 1: \",np.sum(abs(y_test-y_predict)<1)/len(y_test))"
   ]
  },
  {
   "cell_type": "markdown",
   "source": [
    "The values of `y_test` are integers, so for each of the 5 ratings, we'll make a box plot of corresponding values of`y_predict`."
   ],
   "metadata": {
    "collapsed": false,
    "pycharm": {
     "name": "#%% md\n"
    }
   }
  },
  {
   "cell_type": "code",
   "execution_count": 35,
   "outputs": [
    {
     "data": {
      "text/plain": "Text(0.5, 0, 'y_predict')"
     },
     "execution_count": 35,
     "metadata": {},
     "output_type": "execute_result"
    },
    {
     "data": {
      "text/plain": "<Figure size 432x288 with 1 Axes>",
      "image/png": "[encoded data removed]"
     },
     "metadata": {
      "needs_background": "light"
     },
     "output_type": "display_data"
    }
   ],
   "source": [
    "import seaborn as sns\n",
    "ax=sns.boxplot(x=y_test+3, y=y_predict+3)\n",
    "ax.set_ylim(-5, 10)\n",
    "ax.set_ylabel(\"y_test\")\n",
    "ax.set_xlabel(\"y_predict\")"
   ],
   "metadata": {
    "collapsed": false,
    "pycharm": {
     "name": "#%%\n"
    }
   }
  }
 ],
 "metadata": {
  "kernelspec": {
   "display_name": "Python 3",
   "language": "python",
   "name": "python3"
  },
  "language_info": {
   "codemirror_mode": {
    "name": "ipython",
    "version": 3
   },
   "file_extension": ".py",
   "mimetype": "text/x-python",
   "name": "python",
   "nbconvert_exporter": "python",
   "pygments_lexer": "ipython3",
   "version": "3.8.8"
  }
 },
 "nbformat": 4,
 "nbformat_minor": 2
}