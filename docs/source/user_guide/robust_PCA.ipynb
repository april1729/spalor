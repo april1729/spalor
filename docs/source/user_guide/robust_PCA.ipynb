{
 "cells": [
  {
   "cell_type": "markdown",
   "metadata": {
    "collapsed": true
   },
   "source": [
    "# Robust Principle Component Analysis\n",
    "\n",
    "While PCA is a powerful technique, it's less reliable when just a sparse set of data points are grossly corrupted, and so the goal of RPCA is to identify and remove outliers by separating the data matrix into the sum of a low rank and sparse matrix. For example, consider the low rank matrix from the matrix completion example with a few entries changed\n",
    "\n",
    "$$\\begin{bmatrix}  \n",
    "        1 &\\color{purple}{\\textbf{17}}& 3 & 4\\\\ \n",
    "        3 & 6 &\\color{purple}{\\textbf{7}}& 12 \\\\\n",
    "        5 & 10 & 15  & \\color{purple}{\\textbf{2}} \\\\\n",
    "        7 & \\color{purple}{\\textbf{3}} & 21 & 28 \\\\\n",
    "        \\end{bmatrix}\n",
    "        =\n",
    "        {\\begin{bmatrix}  \n",
    "        1 & 2 & 3 & 4\\\\ \n",
    "        3 & 6 & 9 & 12 \\\\\n",
    "        5 & 10 & 15  & 20 \\\\\n",
    "        7 & 14 & 21 & 28 \\\\\n",
    "        \\end{bmatrix}}\n",
    "        +{\n",
    "        \\begin{bmatrix}  \n",
    "        & -15 &  & \\\\ \n",
    "         &  &  -2&  \\\\\n",
    "         &  &   &  18\\\\\n",
    "         & 11 &  &  \\\\\n",
    "        \\end{bmatrix}}\n",
    "        $$\n",
    "\n",
    "RPCA solves the nonconvex optimization problem:\n",
    "        $$\\begin{equation}\n",
    "            \\begin{array}{ll}\n",
    "                 \\underset{L,S\\in \\mathbb{R}^{d_1,d_2}}{\\text{minimize }}&  \\text{rank}(L)+\\lambda_0 ||S||_0\\\\\n",
    "                 \\text{subject to} & L+S=M\n",
    "            \\end{array}\n",
    "        \\end{equation}$$\n",
    "\n",
    "## The `RPCA` class\n"
   ]
  },
  {
   "cell_type": "code",
   "execution_count": 12,
   "metadata": {
    "pycharm": {
     "name": "#%%\n"
    }
   },
   "outputs": [
    {
     "name": "stdout",
     "output_type": "stream",
     "text": [
      "Denoised matrix error: \n",
      " 4.94329075927598e-16\n",
      "Outliersm error: \n",
      " 4.510225048268804e-16\n"
     ]
    }
   ],
   "source": [
    "import numpy as np\n",
    "from spalor.models import RPCA\n",
    "A = np.random.randn(50, 1).dot(np.random.randn(1,30))\n",
    "S = np.random.rand(*A.shape)<0.1\n",
    "\n",
    "rpca=RPCA(n_components=1, sparsity=0.1)\n",
    "rpca.fit(A+S)\n",
    "\n",
    "print(\"Denoised matrix error: \\n\", np.linalg.norm(rpca.to_matrix()-A)/np.linalg.norm(A))\n",
    "print(\"Outliersm error: \\n\", np.linalg.norm(rpca.outliers_-S)/np.linalg.norm(S))"
   ]
  }
 ],
 "metadata": {
  "kernelspec": {
   "display_name": "Python 3",
   "language": "python",
   "name": "python3"
  },
  "language_info": {
   "codemirror_mode": {
    "name": "ipython",
    "version": 3
   },
   "file_extension": ".py",
   "mimetype": "text/x-python",
   "name": "python",
   "nbconvert_exporter": "python",
   "pygments_lexer": "ipython3",
   "version": "3.8.8"
  }
 },
 "nbformat": 4,
 "nbformat_minor": 1
}