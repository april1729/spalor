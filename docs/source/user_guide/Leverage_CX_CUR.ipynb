{
 "cells": [
  {
   "cell_type": "markdown",
   "metadata": {
    "collapsed": true,
    "pycharm": {
     "name": "#%% md\n"
    }
   },
   "source": [
    "# CUR and CX decomposions\n",
    "Given a large, low rank matrix, CX decomposition selects a subset of columns and finds a representation of the original matrix in terms of the selected columns.  For a given matrix, $A$ with $n$ rows and $d$ columns, the decomposition is, $A=CX$ where $C$ is a $d \\times n_c$ matrix, whose columns are all columns in $A$, and $X$ is a $n_c \\times n$ that minimizes $||A-CX||_F^2$.\n",
    "\n",
    "For example, consider the following matrix:\n",
    "$$ \\begin{bmatrix}\n",
    "1 & 1 &2 & 2\\\\\n",
    "2&1&3&5\\\\\n",
    "1&2&3&1\\\\\n",
    "3 & 1 & 4 & 8\n",
    "\\end{bmatrix}$$\n",
    "If we chose the first two columns as $C$, the CX decomposition would be:\n",
    "\n",
    "$$C=\\begin{bmatrix}\n",
    "1 & 1\\\\\n",
    "2&1\\\\\n",
    "1&2\\\\\n",
    "3 & 1\\\\\n",
    "\\end{bmatrix}, X=\\begin{bmatrix}\n",
    "1 & 0 & 1& 3 \\\\\n",
    "0 & 1 & 1& -1 \\\\\n",
    "\\end{bmatrix}$$\n",
    "\n",
    "[CUR decompositions](https://www.pnas.org/doi/epdf/10.1073/pnas.0803205106) work in a very similiar way, but also selects a subset of rows in addition to columns.  For a given matrix, $A$ with $n$ rows and $d$ columns, the decomposition is, $A=CUR$ where $C$ is a $d \\times n_c$ matrix, whose columns are all columns in $A$, and $R$ is a $n_r \\times n$ whose rows are all rows in $A$, and $U$ is the $n_c \\times n_r$ matrix that minimized that minimizes $||A-CUR||_F^2$.\n",
    "\n",
    "Using the same example, a CUR decomposition of $A$ could be:\n",
    "\n",
    "$$C=\\begin{bmatrix}\n",
    "1 & 1\\\\\n",
    "2&1\\\\\n",
    "1&2\\\\\n",
    "3 & 1\n",
    "\\end{bmatrix},\n",
    "R=\\begin{bmatrix}\n",
    "1 & 1 &2 & 2\\\\\n",
    "2&1&3&5\\\\\n",
    "\\end{bmatrix} , U=\\begin{bmatrix} -1 & 1\\\\ 2 & -1\\end{bmatrix}$$\n",
    "\n",
    "CX and CUR decompositions can be done with any set of rows or columns.  One way to select rows and columns is by calculating the [leverage score](https://en.wikipedia.org/wiki/Leverage_(statistics)) of each row and columns.  The leverage score is a measure of how important each row (or column) is when constructing the low-rank approximation of a matrix.  Once the leverage scores have been calculated, we can randomly sample rows (or columns) using the leverage scores as probabilities.\n",
    "\n",
    "Calculated the leverage scores exactly requires computing the [truncated SVD](https://en.wikipedia.org/wiki/Singular_value_decomposition#Truncated_SVD), but the can be [approximated](https://www.stat.berkeley.edu/~mmahoney/pubs/coherence-jmlr12.pdf) quickly and accurately.\n",
    "\n",
    "## The `CX` class\n",
    ":class:`CX`"
   ]
  },
  {
   "cell_type": "code",
   "execution_count": 26,
   "metadata": {
    "pycharm": {
     "name": "#%%\n"
    }
   },
   "outputs": [
    {
     "name": "stdout",
     "output_type": "stream",
     "text": [
      "C:\n",
      " [[1 1]\n",
      " [2 1]\n",
      " [1 2]\n",
      " [3 1]]\n",
      "X:\n",
      " [[1 1]\n",
      " [2 1]\n",
      " [1 2]\n",
      " [3 1]]\n",
      "columns used: \n",
      " [0, 1]\n"
     ]
    }
   ],
   "source": [
    "import numpy as np\n",
    "from spalor.models import CX\n",
    "\n",
    "A=np.array([[1, 1, 2, 2],\n",
    "            [2, 1, 3, 5],\n",
    "            [1, 2, 3, 1],\n",
    "            [3, 1, 4, 8]])\n",
    "\n",
    "cx=CX()\n",
    "X=cx.fit_transform(A, cols=[0,1])\n",
    "print(\"C:\\n\", cx.C)\n",
    "print(\"X:\\n\", X)\n",
    "print(\"columns used: \\n\", cx.cols)"
   ]
  },
  {
   "cell_type": "code",
   "execution_count": 27,
   "outputs": [
    {
     "name": "stdout",
     "output_type": "stream",
     "text": [
      "C:\n",
      " [[2 2]\n",
      " [5 5]\n",
      " [1 1]\n",
      " [8 8]]\n",
      "X:\n",
      " [[2 2]\n",
      " [5 5]\n",
      " [1 1]\n",
      " [8 8]]\n",
      "columns used: \n",
      " [3 3]\n"
     ]
    }
   ],
   "source": [
    "cx=CX(n_components=2)\n",
    "X=cx.fit_transform(A)\n",
    "print(\"C:\\n\", cx.C)\n",
    "print(\"X:\\n\", X)\n",
    "print(\"columns used: \\n\", cx.cols)"
   ],
   "metadata": {
    "collapsed": false,
    "pycharm": {
     "name": "#%%\n"
    }
   }
  },
  {
   "cell_type": "markdown",
   "source": [
    "## The `CUR` class\n",
    ":class:`CUR`\n"
   ],
   "metadata": {
    "collapsed": false,
    "pycharm": {
     "name": "#%% md\n"
    }
   }
  },
  {
   "cell_type": "code",
   "execution_count": 28,
   "outputs": [
    {
     "name": "stdout",
     "output_type": "stream",
     "text": [
      "C:\n",
      " [[2. 2.]\n",
      " [3. 5.]\n",
      " [3. 1.]\n",
      " [4. 8.]]\n",
      "U:\n",
      " [[-0.05  0.4 ]\n",
      " [ 0.15 -0.2 ]]\n",
      "R:\n",
      " [[3. 1. 4. 8.]\n",
      " [1. 2. 3. 1.]]\n",
      "columns used: \n",
      " [array([2, 3])]\n",
      "rows used: \n",
      " [array([3, 2])]\n"
     ]
    }
   ],
   "source": [
    "import numpy as np\n",
    "from spalor.models import CUR\n",
    "\n",
    "A=np.array([[1, 1, 2, 2],\n",
    "            [2, 1, 3, 5],\n",
    "            [1, 2, 3, 1],\n",
    "            [3, 1, 4, 8]], dtype=float)\n",
    "\n",
    "cur = CUR(n_rows=2, n_cols=2)\n",
    "cur.fit(A)\n",
    "\n",
    "print(\"C:\\n\", cur.C)\n",
    "print(\"U:\\n\", cur.U)\n",
    "print(\"R:\\n\", cur.R)\n",
    "print(\"columns used: \\n\", cur.cols)\n",
    "print(\"rows used: \\n\", cur.rows)"
   ],
   "metadata": {
    "collapsed": false,
    "pycharm": {
     "name": "#%%\n"
    }
   }
  },
  {
   "cell_type": "markdown",
   "source": [
    "## Computing leverage sores\n"
   ],
   "metadata": {
    "collapsed": false,
    "pycharm": {
     "name": "#%% md\n"
    }
   }
  },
  {
   "cell_type": "code",
   "execution_count": 29,
   "outputs": [
    {
     "name": "stdout",
     "output_type": "stream",
     "text": [
      "[0.05172414 0.18965517 0.31034483 0.44827586]\n"
     ]
    }
   ],
   "source": [
    "from spalor.matrix_tools import leverage_score\n",
    "import numpy as np\n",
    "A=np.array([[1, 1, 2, 2],\n",
    "            [2, 1, 3, 5],\n",
    "            [1, 2, 3, 1],\n",
    "            [3, 1, 4, 8]], dtype=float)\n",
    "\n",
    "print(leverage_score(A, k=2, axis=1))"
   ],
   "metadata": {
    "collapsed": false,
    "pycharm": {
     "name": "#%%\n"
    }
   }
  },
  {
   "cell_type": "code",
   "execution_count": 30,
   "outputs": [
    {
     "name": "stdout",
     "output_type": "stream",
     "text": [
      "[0.05172414 0.18965517 0.31034483 0.44827586]\n"
     ]
    }
   ],
   "source": [
    "svdA=np.linalg.svd(A)\n",
    "print(leverage_score(svdA, k=2, axis=1))"
   ],
   "metadata": {
    "collapsed": false,
    "pycharm": {
     "name": "#%%\n"
    }
   }
  },
  {
   "cell_type": "code",
   "execution_count": 31,
   "outputs": [
    {
     "name": "stdout",
     "output_type": "stream",
     "text": [
      "[0.08855471 0.00874692 0.09747291 0.80522546]\n"
     ]
    }
   ],
   "source": [
    "print(leverage_score(A, k=2, axis=1, method=\"approximate\"))"
   ],
   "metadata": {
    "collapsed": false,
    "pycharm": {
     "name": "#%%\n"
    }
   }
  }
 ],
 "metadata": {
  "kernelspec": {
   "display_name": "Python 3",
   "language": "python",
   "name": "python3"
  },
  "language_info": {
   "codemirror_mode": {
    "name": "ipython",
    "version": 3
   },
   "file_extension": ".py",
   "mimetype": "text/x-python",
   "name": "python",
   "nbconvert_exporter": "python",
   "pygments_lexer": "ipython3",
   "version": "3.8.8"
  }
 },
 "nbformat": 4,
 "nbformat_minor": 1
}