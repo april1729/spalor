{
 "cells": [
  {
   "cell_type": "markdown",
   "metadata": {
    "collapsed": true
   },
   "source": [
    "# Robust Principle Component Analysis\n",
    "\n",
    "While PCA is a powerful technique, it has been shown to be less reliable when just a sparse set of data points are grossly corrupted, and so the goal of RPCA is to identify and remove such corruptions by separating the data matrix into the sum of a low rank and sparse matrix. For example, consider the low rank matrix from the matrix completion example with a few entries changed\n",
    "$$\\begin{bmatrix}  \n",
    "        1 &\\color{purple}{\\textbf{17}}& 3 & 4\\\\ \n",
    "        3 & 6 &\\color{purple}{\\textbf{7}}& 12 \\\\\n",
    "        5 & 10 & 15  & \\color{purple}{\\textbf{2}} \\\\\n",
    "        7 & \\color{purple}{\\textbf{3}} & 21 & 28 \\\\\n",
    "        \\end{bmatrix}\n",
    "        =\n",
    "        {\\begin{bmatrix}  \n",
    "        1 & 2 & 3 & 4\\\\ \n",
    "        3 & 6 & 9 & 12 \\\\\n",
    "        5 & 10 & 15  & 20 \\\\\n",
    "        7 & 14 & 21 & 28 \\\\\n",
    "        \\end{bmatrix}}\n",
    "        +{\n",
    "        \\begin{bmatrix}  \n",
    "        & -15 &  & \\\\ \n",
    "         &  &  -2&  \\\\\n",
    "         &  &   &  18\\\\\n",
    "         & 11 &  &  \\\\\n",
    "        \\end{bmatrix}}\n",
    "        $$\n",
    "        \n",
    "Formally, we pose this as the nonconvex optimization problem:\n",
    "        \\begin{equation}\n",
    "            \\begin{array}{ll}\n",
    "                 \\underset{L,S\\in \\mathbb{R}^{d_1,d_2}}{\\text{minimize }}&  \\text{rank}(L)+\\lambda_0 ||S||_0\\\\\n",
    "                 \\text{subject to} & L+S=M\n",
    "            \\end{array}\n",
    "        \\end{equation}\n"
   ]
  },
  {
   "cell_type": "code",
   "execution_count": null,
   "metadata": {},
   "outputs": [],
   "source": []
  }
 ],
 "metadata": {
  "kernelspec": {
   "display_name": "Python 3",
   "language": "python",
   "name": "python3"
  },
  "language_info": {
   "codemirror_mode": {
    "name": "ipython",
    "version": 3
   },
   "file_extension": ".py",
   "mimetype": "text/x-python",
   "name": "python",
   "nbconvert_exporter": "python",
   "pygments_lexer": "ipython3",
   "version": "3.7.3"
  }
 },
 "nbformat": 4,
 "nbformat_minor": 1
}
